{
 "cells": [
  {
   "cell_type": "code",
   "execution_count": 12,
   "metadata": {},
   "outputs": [
    {
     "name": "stdout",
     "output_type": "stream",
     "text": [
      "         date  vaxtype  daily_total  daily_serious_npra  \\\n",
      "38 2021-04-01   pfizer         2051                   6   \n",
      "39 2021-04-01  sinovac            1                   0   \n",
      "40 2021-04-02   pfizer         1049                   7   \n",
      "41 2021-04-02  sinovac            1                   0   \n",
      "42 2021-04-03   pfizer          592                   4   \n",
      "\n",
      "    daily_nonserious_npra  d1_site_pain  d2_site_pain  d1_headache  \\\n",
      "38                    253          1046           168          550   \n",
      "39                      1             0             0            0   \n",
      "40                    124           584            51          307   \n",
      "41                      1             0             0            0   \n",
      "42                     11           349            33          185   \n",
      "\n",
      "    d2_headache  d1_fever  d2_fever  \n",
      "38          137       137        80  \n",
      "39            0         0         0  \n",
      "40           35        93        10  \n",
      "41            0         0         0  \n",
      "42           28        57        10  \n"
     ]
    },
    {
     "name": "stderr",
     "output_type": "stream",
     "text": [
      "C:\\Users\\cheng\\AppData\\Local\\Temp\\ipykernel_8088\\2895848960.py:11: UserWarning: Parsing dates in %Y-%m-%d format when dayfirst=True was specified. Pass `dayfirst=False` or specify a format to silence this warning.\n",
      "  data['date'] = pd.to_datetime(data['date'], dayfirst=True, errors='coerce')\n"
     ]
    }
   ],
   "source": [
    "import pandas as pd\n",
    "import numpy as np\n",
    "import matplotlib.pyplot as plt\n",
    "import seaborn as sns\n",
    "\n",
    "# Load the CSV directly from the URL\n",
    "url = \"https://raw.githubusercontent.com/MoH-Malaysia/covid19-public/main/vaccination/aefi.csv\"\n",
    "data = pd.read_csv(url)\n",
    "\n",
    "# Convert the 'date' column to datetime, allowing mixed formats\n",
    "data['date'] = pd.to_datetime(data['date'], dayfirst=True, errors='coerce')\n",
    "\n",
    "# Define the date range\n",
    "start_date = '2021-04-01'\n",
    "end_date = '2021-10-01'\n",
    "\n",
    "# Filter the data within the specified date range\n",
    "filtered_data = data[(data['date'] >= start_date) & (data['date'] <= end_date)]\n",
    "\n",
    "# Keep only the required columns\n",
    "columns_to_keep = [\n",
    "    'date', 'vaxtype', 'daily_total', 'daily_serious_npra', 'daily_nonserious_npra', \n",
    "    'd1_site_pain', 'd2_site_pain', 'd1_headache', 'd2_headache', 'd1_fever', 'd2_fever'\n",
    "]\n",
    "\n",
    "filtered_data = filtered_data[columns_to_keep]\n",
    "\n",
    "# Display the filtered data\n",
    "print(filtered_data.head(5))\n"
   ]
  },
  {
   "cell_type": "code",
   "execution_count": null,
   "metadata": {},
   "outputs": [],
   "source": [
    "###EDA part"
   ]
  },
  {
   "cell_type": "code",
   "execution_count": 10,
   "metadata": {},
   "outputs": [
    {
     "name": "stdout",
     "output_type": "stream",
     "text": [
      "Categorical variables: 1\n"
     ]
    }
   ],
   "source": [
    "obj = (filtered_data.dtypes == 'object') \n",
    "print(\"Categorical variables:\",len(list(obj[obj].index)))\n",
    "# check for any categorical variables"
   ]
  },
  {
   "cell_type": "code",
   "execution_count": 13,
   "metadata": {},
   "outputs": [
    {
     "data": {
      "image/png": "[encoded data removed]",
      "text/plain": [
       "<Figure size 1800x3600 with 1 Axes>"
      ]
     },
     "metadata": {},
     "output_type": "display_data"
    }
   ],
   "source": [
    "obj = (filtered_data.dtypes == 'object') \n",
    "object_cols = list(obj[obj].index) \n",
    "plt.figure(figsize=(18,36)) \n",
    "index = 1\n",
    "  \n",
    "for col in object_cols: \n",
    "  y = data[col].value_counts() \n",
    "  plt.subplot(4,2,index) \n",
    "  plt.xticks(rotation=90) \n",
    "  sns.barplot(x=list(y.index), y=y) \n",
    "  plt.title(col)\n",
    "  index +=1"
   ]
  }
 ],
 "metadata": {
  "kernelspec": {
   "display_name": "Python 3",
   "language": "python",
   "name": "python3"
  },
  "language_info": {
   "codemirror_mode": {
    "name": "ipython",
    "version": 3
   },
   "file_extension": ".py",
   "mimetype": "text/x-python",
   "name": "python",
   "nbconvert_exporter": "python",
   "pygments_lexer": "ipython3",
   "version": "3.10.0"
  }
 },
 "nbformat": 4,
 "nbformat_minor": 2
}
