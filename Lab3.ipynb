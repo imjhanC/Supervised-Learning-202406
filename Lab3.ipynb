{
 "cells": [
  {
   "cell_type": "code",
   "execution_count": 1,
   "metadata": {},
   "outputs": [],
   "source": [
    "import pandas as pd\n",
    "import numpy as np\n",
    "import matplotlib.pyplot as plt\n",
    "import seaborn as sns\n",
    "\n",
    "# Load the CSV directly from the URL\n",
    "url = \"https://raw.githubusercontent.com/MoH-Malaysia/covid19-public/main/vaccination/aefi.csv\"\n",
    "data = pd.read_csv(url)\n",
    "\n",
    "# Convert the 'date' column to datetime, allowing mixed formats\n",
    "data['date'] = pd.to_datetime(data['date'], dayfirst=True, errors='coerce')\n",
    "\n",
    "# Define the date range\n",
    "start_date = '2021-04-01'\n",
    "end_date = '2021-10-01'\n",
    "\n",
    "# Filter the data within the specified date range\n",
    "filtered_data = data[(data['date'] >= start_date) & (data['date'] <= end_date)]\n",
    "\n",
    "# Display the filtered data\n",
    "print(filtered_data.head(5))\n"
   ]
  }
 ],
 "metadata": {
  "kernelspec": {
   "display_name": "Python 3",
   "language": "python",
   "name": "python3"
  },
  "language_info": {
   "codemirror_mode": {
    "name": "ipython",
    "version": 3
   },
   "file_extension": ".py",
   "mimetype": "text/x-python",
   "name": "python",
   "nbconvert_exporter": "python",
   "pygments_lexer": "ipython3",
   "version": "3.10.0"
  }
 },
 "nbformat": 4,
 "nbformat_minor": 2
}
